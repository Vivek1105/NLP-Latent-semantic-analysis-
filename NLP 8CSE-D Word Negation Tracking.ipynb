{
 "cells": [
  {
   "cell_type": "code",
   "execution_count": 1,
   "id": "7120f4fe",
   "metadata": {},
   "outputs": [],
   "source": [
    "import nltk"
   ]
  },
  {
   "cell_type": "code",
   "execution_count": 2,
   "id": "dfa6ddc4",
   "metadata": {},
   "outputs": [],
   "source": [
    "sentence = \"I was not happy with the team's performance\""
   ]
  },
  {
   "cell_type": "code",
   "execution_count": 3,
   "id": "b7825c62",
   "metadata": {},
   "outputs": [],
   "source": [
    "words = nltk.word_tokenize(sentence)"
   ]
  },
  {
   "cell_type": "code",
   "execution_count": 4,
   "id": "bc882455",
   "metadata": {},
   "outputs": [],
   "source": [
    "new_words = []"
   ]
  },
  {
   "cell_type": "code",
   "execution_count": 5,
   "id": "1c17c0a3",
   "metadata": {},
   "outputs": [],
   "source": [
    "temp_word = ''\n",
    "for word in words:\n",
    "    if word == 'not':\n",
    "        temp_word = 'not_'\n",
    "    elif temp_word == 'not_':\n",
    "        word = temp_word + word\n",
    "        temp_word = ''\n",
    "    if word != 'not':\n",
    "        new_words.append(word)"
   ]
  },
  {
   "cell_type": "code",
   "execution_count": 6,
   "id": "10ef78ed",
   "metadata": {},
   "outputs": [],
   "source": [
    "sentence = ' '.join(new_words)"
   ]
  },
  {
   "cell_type": "code",
   "execution_count": 7,
   "id": "8ef0d585",
   "metadata": {},
   "outputs": [],
   "source": [
    "import nltk\n",
    "from nltk.corpus import wordnet"
   ]
  },
  {
   "cell_type": "code",
   "execution_count": 8,
   "id": "efea9d45",
   "metadata": {},
   "outputs": [],
   "source": [
    "sentence = \"I was not happy with the team's performance\"\n"
   ]
  },
  {
   "cell_type": "code",
   "execution_count": 9,
   "id": "5777179c",
   "metadata": {},
   "outputs": [],
   "source": [
    "words = nltk.word_tokenize(sentence)"
   ]
  },
  {
   "cell_type": "code",
   "execution_count": 10,
   "id": "c1011abe",
   "metadata": {},
   "outputs": [],
   "source": [
    "new_words = []"
   ]
  },
  {
   "cell_type": "code",
   "execution_count": 11,
   "id": "e8126e8a",
   "metadata": {},
   "outputs": [],
   "source": [
    "temp_word = ''\n",
    "for word in words:\n",
    "    antonyms = []\n",
    "    if word == 'not':\n",
    "        temp_word = 'not_'\n",
    "    elif temp_word == 'not_':\n",
    "        for syn in wordnet.synsets(word):\n",
    "            for s in syn.lemmas():\n",
    "                for a in s.antonyms():\n",
    "                    antonyms.append(a.name())\n",
    "        if len(antonyms) >= 1:\n",
    "            word = antonyms[0]\n",
    "        else:\n",
    "            word = temp_word + word\n",
    "        temp_word = ''\n",
    "    if word != 'not':\n",
    "        new_words.append(word)"
   ]
  },
  {
   "cell_type": "code",
   "execution_count": 12,
   "id": "ee57eefd",
   "metadata": {},
   "outputs": [],
   "source": [
    "sentence = ' '.join(new_words)"
   ]
  },
  {
   "cell_type": "code",
   "execution_count": null,
   "id": "3dfe100f",
   "metadata": {},
   "outputs": [],
   "source": []
  }
 ],
 "metadata": {
  "kernelspec": {
   "display_name": "Python 3",
   "language": "python",
   "name": "python3"
  },
  "language_info": {
   "codemirror_mode": {
    "name": "ipython",
    "version": 3
   },
   "file_extension": ".py",
   "mimetype": "text/x-python",
   "name": "python",
   "nbconvert_exporter": "python",
   "pygments_lexer": "ipython3",
   "version": "3.8.8"
  }
 },
 "nbformat": 4,
 "nbformat_minor": 5
}
