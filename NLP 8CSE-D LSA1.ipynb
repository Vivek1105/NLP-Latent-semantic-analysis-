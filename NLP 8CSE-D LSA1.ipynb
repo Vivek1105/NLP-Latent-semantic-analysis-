{
 "cells": [
  {
   "cell_type": "code",
   "execution_count": 1,
   "id": "6e67f434",
   "metadata": {},
   "outputs": [],
   "source": [
    "from sklearn.feature_extraction.text import TfidfVectorizer\n",
    "from sklearn.decomposition import TruncatedSVD"
   ]
  },
  {
   "cell_type": "code",
   "execution_count": 2,
   "id": "76e310dc",
   "metadata": {},
   "outputs": [],
   "source": [
    "dataset = [\"The amount of polution is increasing day by day\",\n",
    "           \"The concert was just great\",\n",
    "           \"I love to see Gordon Ramsay cook\",\n",
    "           \"Google is introducing a new technology\",\n",
    "           \"AI Robots are examples of great technology present today\",\n",
    "           \"All of us were singing in the concert\",\n",
    "           \"We have launch campaigns to stop pollution and global warming\"]"
   ]
  },
  {
   "cell_type": "code",
   "execution_count": 3,
   "id": "3b386fff",
   "metadata": {},
   "outputs": [],
   "source": [
    "dataset = [line.lower() for line in dataset]"
   ]
  },
  {
   "cell_type": "code",
   "execution_count": 4,
   "id": "5afca0d4",
   "metadata": {},
   "outputs": [],
   "source": [
    "# Creating Tfidf Model\n",
    "vectorizer = TfidfVectorizer()\n",
    "X = vectorizer.fit_transform(dataset)"
   ]
  },
  {
   "cell_type": "code",
   "execution_count": 5,
   "id": "702bd937",
   "metadata": {},
   "outputs": [
    {
     "name": "stdout",
     "output_type": "stream",
     "text": [
      "  (0, 5)\t0.3211483974289089\n",
      "  (0, 9)\t0.6422967948578178\n",
      "  (0, 17)\t0.3211483974289089\n",
      "  (0, 19)\t0.2665807498646048\n",
      "  (0, 26)\t0.3211483974289089\n",
      "  (0, 24)\t0.2278643877752444\n",
      "  (0, 2)\t0.3211483974289089\n",
      "  (0, 34)\t0.2278643877752444\n"
     ]
    }
   ],
   "source": [
    "# Visualizing the Tfidf Model\n",
    "print(X[0])"
   ]
  },
  {
   "cell_type": "code",
   "execution_count": 6,
   "id": "aa41213f",
   "metadata": {},
   "outputs": [
    {
     "data": {
      "text/plain": [
       "TruncatedSVD(n_components=4, n_iter=100)"
      ]
     },
     "execution_count": 6,
     "metadata": {},
     "output_type": "execute_result"
    }
   ],
   "source": [
    "# Creating the SVD\n",
    "lsa = TruncatedSVD(n_components = 4, n_iter = 100)\n",
    "lsa.fit(X)"
   ]
  },
  {
   "cell_type": "code",
   "execution_count": 7,
   "id": "626adc14",
   "metadata": {},
   "outputs": [],
   "source": [
    "# First Column of V\n",
    "row1 = lsa.components_[3]"
   ]
  },
  {
   "cell_type": "code",
   "execution_count": 8,
   "id": "1a62ccfa",
   "metadata": {},
   "outputs": [
    {
     "name": "stdout",
     "output_type": "stream",
     "text": [
      "\n",
      "Concept 0 :\n",
      "('the', 0.37609829529263755)\n",
      "('concert', 0.3449887392330661)\n",
      "('great', 0.30012402589487397)\n",
      "('of', 0.29579806095266686)\n",
      "('just', 0.23736582929791242)\n",
      "('was', 0.23736582929791242)\n",
      "('day', 0.22892159541504536)\n",
      "('technology', 0.1838383456741341)\n",
      "('all', 0.17824025175628963)\n",
      "('in', 0.17824025175628963)\n",
      "\n",
      "Concept 1 :\n",
      "('to', 0.41578844396700676)\n",
      "('cook', 0.2835916579351067)\n",
      "('gordon', 0.2835916579351067)\n",
      "('love', 0.2835916579351067)\n",
      "('ramsay', 0.2835916579351067)\n",
      "('see', 0.2835916579351067)\n",
      "('and', 0.21730644711292507)\n",
      "('campaigns', 0.21730644711292507)\n",
      "('global', 0.21730644711292507)\n",
      "('have', 0.21730644711292507)\n",
      "\n",
      "Concept 2 :\n",
      "('technology', 0.37791806767144037)\n",
      "('is', 0.3419614380631977)\n",
      "('google', 0.3413969441909743)\n",
      "('introducing', 0.3413969441909743)\n",
      "('new', 0.3413969441909743)\n",
      "('day', 0.14112432680994552)\n",
      "('ai', 0.11387892195373119)\n",
      "('are', 0.11387892195373107)\n",
      "('examples', 0.11387892195373107)\n",
      "('present', 0.11387892195373107)\n",
      "\n",
      "Concept 3 :\n",
      "('day', 0.46542676790411114)\n",
      "('by', 0.23271338395205557)\n",
      "('increasing', 0.23271338395205557)\n",
      "('polution', 0.23271338395205557)\n",
      "('amount', 0.23271338395205543)\n",
      "('is', 0.21264455202450155)\n",
      "('the', 0.12724213180694258)\n",
      "('all', 0.0564466475272652)\n",
      "('in', 0.056446647527265116)\n",
      "('singing', 0.056446647527265116)\n"
     ]
    }
   ],
   "source": [
    "# Visualizing the concepts\n",
    "terms = vectorizer.get_feature_names()\n",
    "for i,comp in enumerate(lsa.components_):\n",
    "    componentTerms = zip(terms,comp)\n",
    "    sortedTerms = sorted(componentTerms,key=lambda x:x[1],reverse=True)\n",
    "    sortedTerms = sortedTerms[:10]\n",
    "    print(\"\\nConcept\",i,\":\")\n",
    "    for term in sortedTerms:\n",
    "        print(term)"
   ]
  },
  {
   "cell_type": "code",
   "execution_count": null,
   "id": "c0a09c96",
   "metadata": {},
   "outputs": [],
   "source": []
  }
 ],
 "metadata": {
  "kernelspec": {
   "display_name": "Python 3",
   "language": "python",
   "name": "python3"
  },
  "language_info": {
   "codemirror_mode": {
    "name": "ipython",
    "version": 3
   },
   "file_extension": ".py",
   "mimetype": "text/x-python",
   "name": "python",
   "nbconvert_exporter": "python",
   "pygments_lexer": "ipython3",
   "version": "3.8.8"
  }
 },
 "nbformat": 4,
 "nbformat_minor": 5
}
