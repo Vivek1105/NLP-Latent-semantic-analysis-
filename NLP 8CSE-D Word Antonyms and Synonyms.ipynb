{
 "cells": [
  {
   "cell_type": "code",
   "execution_count": 5,
   "id": "0ebaeefa",
   "metadata": {},
   "outputs": [
    {
     "name": "stderr",
     "output_type": "stream",
     "text": [
      "[nltk_data] Downloading package wordnet to\n",
      "[nltk_data]     C:\\Users\\Dell\\AppData\\Roaming\\nltk_data...\n"
     ]
    }
   ],
   "source": [
    "import nltk\n",
    "nltk.download('wordnet')\n",
    "from nltk.corpus import wordnet"
   ]
  },
  {
   "cell_type": "code",
   "execution_count": 6,
   "id": "7798b4bc",
   "metadata": {},
   "outputs": [],
   "source": [
    "synonyms = []\n",
    "antonyms = []"
   ]
  },
  {
   "cell_type": "code",
   "execution_count": 7,
   "id": "16facb25",
   "metadata": {},
   "outputs": [],
   "source": [
    "for syn in wordnet.synsets(\"good\"):\n",
    "    for s in syn.lemmas():\n",
    "        synonyms.append(s.name())\n",
    "        for a in s.antonyms():\n",
    "            antonyms.append(a.name())"
   ]
  },
  {
   "cell_type": "code",
   "execution_count": 8,
   "id": "f050c353",
   "metadata": {},
   "outputs": [
    {
     "name": "stdout",
     "output_type": "stream",
     "text": [
      "{'near', 'soundly', 'good', 'unspoiled', 'serious', 'skillful', 'beneficial', 'proficient', 'honorable', 'undecomposed', 'just', 'sound', 'effective', 'estimable', 'trade_good', 'expert', 'dependable', 'full', 'in_effect', 'in_force', 'respectable', 'well', 'commodity', 'skilful', 'unspoilt', 'safe', 'upright', 'adept', 'dear', 'secure', 'ripe', 'salutary', 'goodness', 'honest', 'thoroughly', 'practiced', 'right'}\n",
      "{'badness', 'ill', 'bad', 'evilness', 'evil'}\n"
     ]
    }
   ],
   "source": [
    "print(set(synonyms))\n",
    "print(set(antonyms))"
   ]
  },
  {
   "cell_type": "code",
   "execution_count": null,
   "id": "fc6b7d41",
   "metadata": {},
   "outputs": [],
   "source": []
  }
 ],
 "metadata": {
  "kernelspec": {
   "display_name": "Python 3",
   "language": "python",
   "name": "python3"
  },
  "language_info": {
   "codemirror_mode": {
    "name": "ipython",
    "version": 3
   },
   "file_extension": ".py",
   "mimetype": "text/x-python",
   "name": "python",
   "nbconvert_exporter": "python",
   "pygments_lexer": "ipython3",
   "version": "3.8.8"
  }
 },
 "nbformat": 4,
 "nbformat_minor": 5
}
